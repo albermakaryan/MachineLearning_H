{
 "cells": [
  {
   "cell_type": "markdown",
   "id": "3db53c1a",
   "metadata": {
    "id": "3db53c1a"
   },
   "source": [
    "### Decision Tree From Scratch"
   ]
  },
  {
   "cell_type": "code",
   "execution_count": 2,
   "id": "0eb75e1e",
   "metadata": {
    "id": "0eb75e1e"
   },
   "outputs": [],
   "source": [
    "import numpy as np\n",
    "from collections import Counter"
   ]
  },
  {
   "cell_type": "markdown",
   "id": "58c63685",
   "metadata": {
    "id": "58c63685"
   },
   "source": [
    "#### 1. Implement the entropy given the target column\n",
    "\n",
    "$$\n",
    "\\begin{align}\n",
    "Entropy = \\sum_{i=1}^{c} p_i * (-log_2p_i)\n",
    "\\end{align}\n",
    "$$"
   ]
  },
  {
   "cell_type": "code",
   "execution_count": 3,
   "id": "cb2b5686",
   "metadata": {
    "id": "cb2b5686"
   },
   "outputs": [],
   "source": [
    "def entropy(y):\n",
    "    _,counts = np.unique(y,return_counts = True)\n",
    "    \n",
    "    probabilities = counts/counts.sum()\n",
    "    \n",
    "    return sum(probabilities * (-np.log2(probabilities)))\n",
    "    "
   ]
  },
  {
   "cell_type": "code",
   "execution_count": 4,
   "id": "3dd0f63a",
   "metadata": {},
   "outputs": [
    {
     "data": {
      "text/plain": [
       "0.9612366047228759"
      ]
     },
     "execution_count": 4,
     "metadata": {},
     "output_type": "execute_result"
    }
   ],
   "source": [
    "entropy(np.array([1,0,1,0,1,0,0,0,0,0,1,0,1]))"
   ]
  },
  {
   "cell_type": "code",
   "execution_count": null,
   "id": "b9109ea6",
   "metadata": {},
   "outputs": [],
   "source": []
  },
  {
   "cell_type": "code",
   "execution_count": null,
   "id": "44ea0a34",
   "metadata": {
    "id": "44ea0a34",
    "outputId": "860cf04e-8469-48e8-a068-ec93f981135f",
    "scrolled": false
   },
   "outputs": [
    {
     "data": {
      "text/plain": [
       "0.9612366047228759"
      ]
     },
     "execution_count": 8,
     "metadata": {},
     "output_type": "execute_result"
    }
   ],
   "source": [
    "entropy(np.array([1,0,1,0,1,0,0,0,0,0,1,0,1]))"
   ]
  },
  {
   "cell_type": "markdown",
   "id": "600520f1",
   "metadata": {
    "id": "600520f1"
   },
   "source": [
    "#### 2. The below code defines the node class which we will use in tree creation."
   ]
  },
  {
   "cell_type": "code",
   "execution_count": 6,
   "id": "783abdb3",
   "metadata": {
    "id": "783abdb3"
   },
   "outputs": [],
   "source": [
    "class Node:\n",
    "\n",
    "    def __init__(self, feature=None, threshold=None, left=None, right=None, *, value=None):\n",
    "        self.feature = feature\n",
    "        self.threshold = threshold\n",
    "        self.left = left\n",
    "        self.right = right\n",
    "        self.value = value\n",
    "\n",
    "    def is_leaf_node(self):\n",
    "        return self.value is not None\n"
   ]
  },
  {
   "cell_type": "markdown",
   "id": "517245a1",
   "metadata": {
    "id": "517245a1"
   },
   "source": [
    "#### 3. Defining the Decision Tree.\n"
   ]
  },
  {
   "cell_type": "markdown",
   "id": "a6bf1052",
   "metadata": {
    "id": "a6bf1052"
   },
   "source": [
    "### Modify the code where required."
   ]
  },
  {
   "cell_type": "code",
   "execution_count": 5,
   "id": "2f01a803",
   "metadata": {
    "id": "2f01a803"
   },
   "outputs": [
    {
     "ename": "SyntaxError",
     "evalue": "invalid syntax (1638999488.py, line 62)",
     "output_type": "error",
     "traceback": [
      "\u001b[1;36m  File \u001b[1;32m\"C:\\Users\\New User\\AppData\\Local\\Temp\\ipykernel_19628\\1638999488.py\"\u001b[1;36m, line \u001b[1;32m62\u001b[0m\n\u001b[1;33m    e_l, e_r = ??? # the entropy for left and right.\u001b[0m\n\u001b[1;37m               ^\u001b[0m\n\u001b[1;31mSyntaxError\u001b[0m\u001b[1;31m:\u001b[0m invalid syntax\n"
     ]
    }
   ],
   "source": [
    "class DecisionTree:\n",
    "\n",
    "    def __init__(self, min_samples_split=2, max_depth=100, n_feats=None):\n",
    "        self.min_samples_split = min_samples_split\n",
    "        self.max_depth = max_depth\n",
    "        self.n_feats = n_feats\n",
    "        self.root = None\n",
    "\n",
    "    def _grow_tree(self, X, y, depth=0):\n",
    "        n_samples, n_features = X.shape\n",
    "        n_labels = len(np.unique(y))\n",
    "\n",
    "        # stopping criteria\n",
    "        if (depth >= self.max_depth\n",
    "                or n_labels == 1\n",
    "                or n_samples < self.min_samples_split):\n",
    "            leaf_value = self._most_common_label(y)\n",
    "            return Node(value=leaf_value)\n",
    "\n",
    "        feat_idxs = np.random.choice(n_features, self.n_feats, replace=False)\n",
    "\n",
    "        # greedily select the best split according to information gain\n",
    "        best_feat, best_thresh = self._best_criteria(X, y, feat_idxs)\n",
    "        \n",
    "        # grow the children that result from the split\n",
    "        left_idxs, right_idxs = self._split(X[:, best_feat], best_thresh)\n",
    "        left = self._grow_tree(X[left_idxs, :], y[left_idxs], depth+1)\n",
    "        right = self._grow_tree(X[right_idxs, :], y[right_idxs], depth+1)\n",
    "        return Node(best_feat, best_thresh, left, right)\n",
    "\n",
    "    def _best_criteria(self, X, y, feat_idxs):\n",
    "        best_gain = -1\n",
    "        split_idx, split_thresh = None, None\n",
    "        for feat_idx in feat_idxs:\n",
    "            X_column = X[:, feat_idx]\n",
    "            thresholds = np.unique(X_column)\n",
    "            for threshold in thresholds:\n",
    "                gain = self._information_gain(y, X_column, threshold)\n",
    "\n",
    "                if gain > best_gain:\n",
    "                    best_gain = gain\n",
    "                    split_idx = feat_idx\n",
    "                    split_thresh = threshold\n",
    "\n",
    "        return split_idx, split_thresh\n",
    "\n",
    "    def _information_gain(self, y, X_column, split_thresh):\n",
    "        \"\"\"based on the entropy and the given split_thresh, calculate the information gain. \"\"\"\n",
    "        # parent loss\n",
    "        parent_entropy = entropy(y)\n",
    "\n",
    "        # generate split\n",
    "        left_idxs, right_idxs = self._split(X_column, split_thresh)\n",
    "\n",
    "        if len(left_idxs) == 0 or len(right_idxs) == 0:\n",
    "            return 0\n",
    "\n",
    "        # compute the weighted avg. of the loss for the children\n",
    "        n = len(y)\n",
    "        n_l, n_r = len(left_idxs), len(right_idxs)\n",
    "        # CODE HERE!\n",
    "        e_l, e_r = ??? # the entropy for left and right.\n",
    "        child_entropy = ??? # Child entropy\n",
    "\n",
    "\n",
    "        # information gain is difference in loss before vs. after split\n",
    "        ig = parent_entropy - child_entropy\n",
    "        return ig\n",
    "\n",
    "    def _split(self, X_column, split_thresh):\n",
    "        left_idxs = np.argwhere(X_column <= split_thresh).flatten()\n",
    "        right_idxs = np.argwhere(X_column > split_thresh).flatten()\n",
    "        return left_idxs, right_idxs\n",
    "\n",
    "    def _traverse_tree(self, x, node):\n",
    "        if node.is_leaf_node():\n",
    "            return node.value\n",
    "\n",
    "        if x[node.feature] <= node.threshold:\n",
    "            return self._traverse_tree(x, node.left)\n",
    "        return self._traverse_tree(x, node.right)\n",
    "\n",
    "    def _most_common_label(self, y):\n",
    "        counter = Counter(y)\n",
    "        most_common = counter.most_common(1)[0][0]\n",
    "        return most_common\n",
    "    \n",
    "    def fit(self, X, y):\n",
    "        self.n_feats = X.shape[1] if not self.n_feats else min(self.n_feats, X.shape[1])\n",
    "        self.root = self._grow_tree(X, y)\n",
    "\n",
    "    def predict(self, X):\n",
    "        \"\"\"Using the traverse function created below find the prdicted value for each x.\"\"\"\n",
    "        return np.array([ ??? # CODE HERE])"
   ]
  },
  {
   "cell_type": "markdown",
   "id": "ff0e63ca",
   "metadata": {
    "id": "ff0e63ca"
   },
   "source": [
    "#### Testing the algorithm\n"
   ]
  },
  {
   "cell_type": "markdown",
   "id": "65931bb1",
   "metadata": {
    "id": "65931bb1"
   },
   "source": [
    "### After compliting the model try running it on the breast_cancer dataset using the code below and test if you are getting the same results."
   ]
  },
  {
   "cell_type": "code",
   "execution_count": null,
   "id": "6e3505cd",
   "metadata": {
    "id": "6e3505cd"
   },
   "outputs": [],
   "source": [
    "import numpy as np\n",
    "from sklearn import datasets\n",
    "from sklearn.model_selection import train_test_split\n",
    "\n",
    "def accuracy(y_true, y_pred):\n",
    "    accuracy = np.sum(y_true == y_pred) / len(y_true)\n",
    "    return accuracy\n",
    "\n",
    "data = datasets.load_breast_cancer()\n",
    "X = data.data\n",
    "y = data.target\n",
    "\n",
    "X_train, X_test, y_train, y_test = train_test_split(X, y, test_size=0.2, random_state=1234)\n",
    "\n",
    "clf = DecisionTree(max_depth=10)\n",
    "clf.fit(X_train, y_train)\n",
    "    \n",
    "y_pred = clf.predict(X_test)\n",
    "acc = accuracy(y_test, y_pred)\n",
    "\n",
    "print (\"Accuracy:\", acc)"
   ]
  },
  {
   "cell_type": "code",
   "execution_count": null,
   "id": "d6639734",
   "metadata": {
    "id": "d6639734",
    "outputId": "9e24babf-f77c-4f7c-877f-5ed4ea640679"
   },
   "outputs": [
    {
     "name": "stdout",
     "output_type": "stream",
     "text": [
      "Accuracy: 0.9122807017543859\n"
     ]
    }
   ],
   "source": []
  },
  {
   "cell_type": "code",
   "execution_count": null,
   "id": "32746fbf",
   "metadata": {
    "id": "32746fbf"
   },
   "outputs": [],
   "source": []
  }
 ],
 "metadata": {
  "colab": {
   "name": "Assignment 3.2.ipynb",
   "provenance": []
  },
  "kernelspec": {
   "display_name": "Python 3 (ipykernel)",
   "language": "python",
   "name": "python3"
  },
  "language_info": {
   "codemirror_mode": {
    "name": "ipython",
    "version": 3
   },
   "file_extension": ".py",
   "mimetype": "text/x-python",
   "name": "python",
   "nbconvert_exporter": "python",
   "pygments_lexer": "ipython3",
   "version": "3.9.13"
  }
 },
 "nbformat": 4,
 "nbformat_minor": 5
}
