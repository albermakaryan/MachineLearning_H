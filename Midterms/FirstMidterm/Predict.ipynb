{
 "cells": [
  {
   "cell_type": "markdown",
   "id": "f084594a",
   "metadata": {},
   "source": [
    "Models are trained and loaded. You just need to upload test data and put it into predict function."
   ]
  },
  {
   "cell_type": "code",
   "execution_count": 1,
   "id": "e911e073",
   "metadata": {},
   "outputs": [],
   "source": [
    "import numpy as np\n",
    "import pandas as pd\n",
    "import matplotlib.pyplot as plt\n",
    "import seaborn as sns\n",
    "\n",
    "from sklearn.preprocessing import StandardScaler\n",
    "from sklearn.metrics import classification_report\n",
    "from joblib import load"
   ]
  },
  {
   "cell_type": "code",
   "execution_count": 2,
   "id": "2d9f3234",
   "metadata": {},
   "outputs": [],
   "source": [
    "# load test data\n",
    "\n",
    "# test = pd.read_csv('test.csv')"
   ]
  },
  {
   "cell_type": "code",
   "execution_count": 3,
   "id": "2722d368",
   "metadata": {},
   "outputs": [],
   "source": [
    "# load models \n",
    "KNN = load(\"knn.pkl\")\n",
    "DecisionTree = load(\"tree.pkl\")\n",
    "LogisticRegression = load(\"logistic.pkl\")\n",
    "NaiveBayes = load('naive_bayes.pkl')\n",
    "\n",
    "models = [KNN,DecisionTree,LogisticRegression,NaiveBayes]\n",
    "models_names = [\"KNN\",\"DecisionTree\",\"LogisticRegression\",\"NaiveBayes\"]"
   ]
  },
  {
   "cell_type": "code",
   "execution_count": 4,
   "id": "bf7684ed",
   "metadata": {},
   "outputs": [],
   "source": [
    "def predict(test):\n",
    "    \n",
    "    scaler = StandardScaler()\n",
    "    \n",
    "    y_test = test['came_back']\n",
    "    \n",
    "    X_test = np.empty((test.drop('came_back',axis=1)).shape)\n",
    "\n",
    "    X_test[:,:9] = scaler.fit_transform(test.drop(['saved_to_cart','came_back'],axis=1))\n",
    "    X_test[:,-1] = test['saved_to_cart']\n",
    "    \n",
    "    best_score = 0\n",
    "    \n",
    "    for model,name in zip(models,models_names):\n",
    "        \n",
    "        prediction = model.predict(X_test)\n",
    "        print(\"\\n\\n\\t\\t\\t\",name,\"\\n\\n\")\n",
    "        print(classification_report(y_test,prediction))\n",
    "        print(\"_-_\"*19)\n",
    "        \n",
    "        "
   ]
  },
  {
   "cell_type": "code",
   "execution_count": 5,
   "id": "6e9e7531",
   "metadata": {},
   "outputs": [
    {
     "name": "stderr",
     "output_type": "stream",
     "text": [
      "C:\\Users\\New User\\AppData\\Local\\Packages\\PythonSoftwareFoundation.Python.3.9_qbz5n2kfra8p0\\LocalCache\\local-packages\\Python39\\site-packages\\sklearn\\base.py:439: UserWarning: X does not have valid feature names, but KNeighborsClassifier was fitted with feature names\n",
      "  warnings.warn(\n"
     ]
    },
    {
     "name": "stdout",
     "output_type": "stream",
     "text": [
      "\n",
      "\n",
      "\t\t\t KNN \n",
      "\n",
      "\n",
      "              precision    recall  f1-score   support\n",
      "\n",
      "           0       0.86      0.94      0.90      7990\n",
      "           1       0.64      0.38      0.48      2010\n",
      "\n",
      "    accuracy                           0.83     10000\n",
      "   macro avg       0.75      0.66      0.69     10000\n",
      "weighted avg       0.81      0.83      0.81     10000\n",
      "\n",
      "_-__-__-__-__-__-__-__-__-__-__-__-__-__-__-__-__-__-__-_\n",
      "\n",
      "\n",
      "\t\t\t DecisionTree \n",
      "\n",
      "\n",
      "              precision    recall  f1-score   support\n",
      "\n",
      "           0       0.85      0.94      0.90      7990\n",
      "           1       0.61      0.35      0.44      2010\n",
      "\n",
      "    accuracy                           0.82     10000\n",
      "   macro avg       0.73      0.65      0.67     10000\n",
      "weighted avg       0.80      0.82      0.80     10000\n",
      "\n",
      "_-__-__-__-__-__-__-__-__-__-__-__-__-__-__-__-__-__-__-_\n",
      "\n",
      "\n",
      "\t\t\t LogisticRegression \n",
      "\n",
      "\n",
      "              precision    recall  f1-score   support\n",
      "\n",
      "           0       0.85      0.94      0.90      7990\n",
      "           1       0.61      0.35      0.44      2010\n",
      "\n",
      "    accuracy                           0.82     10000\n",
      "   macro avg       0.73      0.65      0.67     10000\n",
      "weighted avg       0.80      0.82      0.80     10000\n",
      "\n",
      "_-__-__-__-__-__-__-__-__-__-__-__-__-__-__-__-__-__-__-_\n",
      "\n",
      "\n",
      "\t\t\t NaiveBayes \n",
      "\n",
      "\n",
      "              precision    recall  f1-score   support\n",
      "\n",
      "           0       0.86      0.89      0.88      7990\n",
      "           1       0.50      0.44      0.47      2010\n",
      "\n",
      "    accuracy                           0.80     10000\n",
      "   macro avg       0.68      0.66      0.67     10000\n",
      "weighted avg       0.79      0.80      0.79     10000\n",
      "\n",
      "_-__-__-__-__-__-__-__-__-__-__-__-__-__-__-__-__-__-__-_\n"
     ]
    },
    {
     "name": "stderr",
     "output_type": "stream",
     "text": [
      "C:\\Users\\New User\\AppData\\Local\\Packages\\PythonSoftwareFoundation.Python.3.9_qbz5n2kfra8p0\\LocalCache\\local-packages\\Python39\\site-packages\\sklearn\\base.py:439: UserWarning: X does not have valid feature names, but StandardScaler was fitted with feature names\n",
      "  warnings.warn(\n",
      "C:\\Users\\New User\\AppData\\Local\\Packages\\PythonSoftwareFoundation.Python.3.9_qbz5n2kfra8p0\\LocalCache\\local-packages\\Python39\\site-packages\\sklearn\\base.py:439: UserWarning: X does not have valid feature names, but StandardScaler was fitted with feature names\n",
      "  warnings.warn(\n",
      "C:\\Users\\New User\\AppData\\Local\\Packages\\PythonSoftwareFoundation.Python.3.9_qbz5n2kfra8p0\\LocalCache\\local-packages\\Python39\\site-packages\\sklearn\\base.py:439: UserWarning: X does not have valid feature names, but GaussianNB was fitted with feature names\n",
      "  warnings.warn(\n"
     ]
    }
   ],
   "source": [
    "predict(test)"
   ]
  },
  {
   "cell_type": "code",
   "execution_count": null,
   "id": "0d5e923f",
   "metadata": {},
   "outputs": [],
   "source": []
  }
 ],
 "metadata": {
  "kernelspec": {
   "display_name": "Python 3 (ipykernel)",
   "language": "python",
   "name": "python3"
  },
  "language_info": {
   "codemirror_mode": {
    "name": "ipython",
    "version": 3
   },
   "file_extension": ".py",
   "mimetype": "text/x-python",
   "name": "python",
   "nbconvert_exporter": "python",
   "pygments_lexer": "ipython3",
   "version": "3.9.13"
  }
 },
 "nbformat": 4,
 "nbformat_minor": 5
}
