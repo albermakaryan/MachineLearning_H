{
 "cells": [
  {
   "cell_type": "markdown",
   "metadata": {
    "id": "Dt4H7wMNyhAV"
   },
   "source": [
    "Features:\n",
    "\n",
    "- n_visits - number of visits of the website during the first 3 days.\n",
    "- n_actions - number of actions/button clicks in the website during the first 3 days.\n",
    "- unique_actions - number of unique actions in the website during the first 3 days.\n",
    "- products_tried - number of products viewed during the first 3 days.\n",
    "- products_added - number of products added to cart during the first 3 days.\n",
    "- unique_products_category_tried - number of unique products’ categories viewed during the first 3 days.\n",
    "- Unique_products_category_added - number of unique products’ categories added to cart during the first 3 days.\n",
    "- saved_to_cart - if the user actually saved the purchases for later purchase during the first 3 days.\n",
    "- comments_writen - how many unique comments the user did during the first 3 days.\n",
    "- counts_of_buys - how many times the user actually paid during the first 3 days."
   ]
  },
  {
   "cell_type": "code",
   "execution_count": 1,
   "metadata": {
    "executionInfo": {
     "elapsed": 1294,
     "status": "ok",
     "timestamp": 1680873962826,
     "user": {
      "displayName": "Alber Makaryan",
      "userId": "15693571088461802987"
     },
     "user_tz": -240
    },
    "id": "CsJUcEaMvTnz"
   },
   "outputs": [],
   "source": [
    "import numpy as np\n",
    "import pandas as pd\n",
    "import matplotlib.pyplot as plt\n",
    "import seaborn as sns\n",
    "\n",
    "from sklearn.linear_model import LogisticRegression\n",
    "from sklearn.neighbors import KNeighborsClassifier\n",
    "from sklearn.tree import DecisionTreeClassifier\n",
    "from sklearn.naive_bayes import GaussianNB, BernoulliNB, CategoricalNB, ComplementNB, MultinomialNB\n",
    "\n",
    "\n",
    "from sklearn.model_selection import train_test_split\n",
    "from sklearn.model_selection import GridSearchCV\n",
    "from sklearn.pipeline import Pipeline\n",
    "from sklearn.preprocessing import StandardScaler\n",
    "from sklearn.metrics import f1_score\n",
    "from sklearn.metrics import classification_report\n",
    "\n",
    "from joblib import dump"
   ]
  },
  {
   "cell_type": "code",
   "execution_count": 2,
   "metadata": {
    "executionInfo": {
     "elapsed": 23,
     "status": "ok",
     "timestamp": 1680873962827,
     "user": {
      "displayName": "Alber Makaryan",
      "userId": "15693571088461802987"
     },
     "user_tz": -240
    },
    "id": "MEO3uwyQygjB"
   },
   "outputs": [],
   "source": [
    "data = pd.read_csv(\"train.csv\")"
   ]
  },
  {
   "cell_type": "code",
   "execution_count": 3,
   "metadata": {
    "colab": {
     "base_uri": "https://localhost:8080/",
     "height": 287
    },
    "executionInfo": {
     "elapsed": 24,
     "status": "ok",
     "timestamp": 1680873962828,
     "user": {
      "displayName": "Alber Makaryan",
      "userId": "15693571088461802987"
     },
     "user_tz": -240
    },
    "id": "JCJupH13bWQn",
    "outputId": "f21e6693-c287-42a7-ba6f-cde4aeadff10",
    "scrolled": true
   },
   "outputs": [
    {
     "data": {
      "text/plain": [
       "(658052, 12)"
      ]
     },
     "execution_count": 3,
     "metadata": {},
     "output_type": "execute_result"
    }
   ],
   "source": [
    "data.shape"
   ]
  },
  {
   "cell_type": "code",
   "execution_count": 4,
   "metadata": {
    "colab": {
     "base_uri": "https://localhost:8080/",
     "height": 270
    },
    "executionInfo": {
     "elapsed": 23,
     "status": "ok",
     "timestamp": 1680873962828,
     "user": {
      "displayName": "Alber Makaryan",
      "userId": "15693571088461802987"
     },
     "user_tz": -240
    },
    "id": "bjda_tZsbWtP",
    "outputId": "31e41534-55a1-4a66-a63c-3d8884cae549"
   },
   "outputs": [
    {
     "data": {
      "text/html": [
       "<div>\n",
       "<style scoped>\n",
       "    .dataframe tbody tr th:only-of-type {\n",
       "        vertical-align: middle;\n",
       "    }\n",
       "\n",
       "    .dataframe tbody tr th {\n",
       "        vertical-align: top;\n",
       "    }\n",
       "\n",
       "    .dataframe thead th {\n",
       "        text-align: right;\n",
       "    }\n",
       "</style>\n",
       "<table border=\"1\" class=\"dataframe\">\n",
       "  <thead>\n",
       "    <tr style=\"text-align: right;\">\n",
       "      <th></th>\n",
       "      <th>n_visits</th>\n",
       "      <th>n_actions</th>\n",
       "      <th>unique_actions</th>\n",
       "      <th>products_tried</th>\n",
       "      <th>products_added</th>\n",
       "      <th>unique_products_category_tried</th>\n",
       "      <th>unique_products_category_added</th>\n",
       "      <th>saved_to_cart</th>\n",
       "      <th>comments_writen</th>\n",
       "      <th>counts_of_buys</th>\n",
       "      <th>came_back</th>\n",
       "    </tr>\n",
       "  </thead>\n",
       "  <tbody>\n",
       "    <tr>\n",
       "      <th>0</th>\n",
       "      <td>1</td>\n",
       "      <td>63</td>\n",
       "      <td>45</td>\n",
       "      <td>0</td>\n",
       "      <td>0</td>\n",
       "      <td>0</td>\n",
       "      <td>2</td>\n",
       "      <td>1</td>\n",
       "      <td>1</td>\n",
       "      <td>2</td>\n",
       "      <td>0</td>\n",
       "    </tr>\n",
       "    <tr>\n",
       "      <th>1</th>\n",
       "      <td>4</td>\n",
       "      <td>350</td>\n",
       "      <td>72</td>\n",
       "      <td>0</td>\n",
       "      <td>0</td>\n",
       "      <td>0</td>\n",
       "      <td>2</td>\n",
       "      <td>1</td>\n",
       "      <td>4</td>\n",
       "      <td>6</td>\n",
       "      <td>0</td>\n",
       "    </tr>\n",
       "    <tr>\n",
       "      <th>2</th>\n",
       "      <td>12</td>\n",
       "      <td>1019</td>\n",
       "      <td>123</td>\n",
       "      <td>5</td>\n",
       "      <td>2</td>\n",
       "      <td>6</td>\n",
       "      <td>6</td>\n",
       "      <td>1</td>\n",
       "      <td>9</td>\n",
       "      <td>14</td>\n",
       "      <td>0</td>\n",
       "    </tr>\n",
       "    <tr>\n",
       "      <th>3</th>\n",
       "      <td>1</td>\n",
       "      <td>503</td>\n",
       "      <td>124</td>\n",
       "      <td>0</td>\n",
       "      <td>0</td>\n",
       "      <td>30</td>\n",
       "      <td>16</td>\n",
       "      <td>0</td>\n",
       "      <td>0</td>\n",
       "      <td>0</td>\n",
       "      <td>0</td>\n",
       "    </tr>\n",
       "    <tr>\n",
       "      <th>4</th>\n",
       "      <td>15</td>\n",
       "      <td>1869</td>\n",
       "      <td>139</td>\n",
       "      <td>0</td>\n",
       "      <td>0</td>\n",
       "      <td>34</td>\n",
       "      <td>13</td>\n",
       "      <td>1</td>\n",
       "      <td>12</td>\n",
       "      <td>25</td>\n",
       "      <td>1</td>\n",
       "    </tr>\n",
       "  </tbody>\n",
       "</table>\n",
       "</div>"
      ],
      "text/plain": [
       "   n_visits  n_actions  unique_actions  products_tried  products_added  \\\n",
       "0         1         63              45               0               0   \n",
       "1         4        350              72               0               0   \n",
       "2        12       1019             123               5               2   \n",
       "3         1        503             124               0               0   \n",
       "4        15       1869             139               0               0   \n",
       "\n",
       "   unique_products_category_tried  unique_products_category_added  \\\n",
       "0                               0                               2   \n",
       "1                               0                               2   \n",
       "2                               6                               6   \n",
       "3                              30                              16   \n",
       "4                              34                              13   \n",
       "\n",
       "   saved_to_cart  comments_writen  counts_of_buys  came_back  \n",
       "0              1                1               2          0  \n",
       "1              1                4               6          0  \n",
       "2              1                9              14          0  \n",
       "3              0                0               0          0  \n",
       "4              1               12              25          1  "
      ]
     },
     "execution_count": 4,
     "metadata": {},
     "output_type": "execute_result"
    }
   ],
   "source": [
    "# I think 'Unnamed: 0' variables is unnsesry, so, I remove it\n",
    "\n",
    "df = data.drop('Unnamed: 0',axis=1)\n",
    "df.head()"
   ]
  },
  {
   "cell_type": "code",
   "execution_count": 5,
   "metadata": {
    "colab": {
     "base_uri": "https://localhost:8080/"
    },
    "executionInfo": {
     "elapsed": 23,
     "status": "ok",
     "timestamp": 1680873962829,
     "user": {
      "displayName": "Alber Makaryan",
      "userId": "15693571088461802987"
     },
     "user_tz": -240
    },
    "id": "d6yYXpXpd-0Z",
    "outputId": "758a473a-e0b1-4067-81fa-e42f29a2be9a"
   },
   "outputs": [
    {
     "data": {
      "text/plain": [
       "(658052, 11)"
      ]
     },
     "execution_count": 5,
     "metadata": {},
     "output_type": "execute_result"
    }
   ],
   "source": [
    "df.shape"
   ]
  },
  {
   "cell_type": "code",
   "execution_count": 6,
   "metadata": {
    "colab": {
     "base_uri": "https://localhost:8080/"
    },
    "executionInfo": {
     "elapsed": 8,
     "status": "ok",
     "timestamp": 1680873963135,
     "user": {
      "displayName": "Alber Makaryan",
      "userId": "15693571088461802987"
     },
     "user_tz": -240
    },
    "id": "kHPRddsgb1Zc",
    "outputId": "bca5a604-bcff-46ac-ab32-3e50c36c095f"
   },
   "outputs": [
    {
     "name": "stdout",
     "output_type": "stream",
     "text": [
      "<class 'pandas.core.frame.DataFrame'>\n",
      "RangeIndex: 658052 entries, 0 to 658051\n",
      "Data columns (total 11 columns):\n",
      " #   Column                          Non-Null Count   Dtype\n",
      "---  ------                          --------------   -----\n",
      " 0   n_visits                        658052 non-null  int64\n",
      " 1   n_actions                       658052 non-null  int64\n",
      " 2   unique_actions                  658052 non-null  int64\n",
      " 3   products_tried                  658052 non-null  int64\n",
      " 4   products_added                  658052 non-null  int64\n",
      " 5   unique_products_category_tried  658052 non-null  int64\n",
      " 6   unique_products_category_added  658052 non-null  int64\n",
      " 7   saved_to_cart                   658052 non-null  int64\n",
      " 8   comments_writen                 658052 non-null  int64\n",
      " 9   counts_of_buys                  658052 non-null  int64\n",
      " 10  came_back                       658052 non-null  int64\n",
      "dtypes: int64(11)\n",
      "memory usage: 55.2 MB\n"
     ]
    }
   ],
   "source": [
    "df.info()"
   ]
  },
  {
   "cell_type": "code",
   "execution_count": 7,
   "metadata": {
    "executionInfo": {
     "elapsed": 8,
     "status": "ok",
     "timestamp": 1680873963136,
     "user": {
      "displayName": "Alber Makaryan",
      "userId": "15693571088461802987"
     },
     "user_tz": -240
    },
    "id": "HM-R3-VdeHNL"
   },
   "outputs": [],
   "source": [
    "df_num = df.drop(['saved_to_cart','came_back'],axis=1)"
   ]
  },
  {
   "cell_type": "code",
   "execution_count": 8,
   "metadata": {
    "executionInfo": {
     "elapsed": 10,
     "status": "ok",
     "timestamp": 1680873963138,
     "user": {
      "displayName": "Alber Makaryan",
      "userId": "15693571088461802987"
     },
     "user_tz": -240
    },
    "id": "ezToXOVkej-7"
   },
   "outputs": [],
   "source": [
    "# outliers\n",
    "\n",
    "def plot_outliers(df):\n",
    "    \n",
    "    for col in df:\n",
    "        plt.figure(figsize=(10,2))\n",
    "        sns.boxplot(data=df,x=col)\n",
    "        plt.title(col,fontsize=12)\n",
    "        plt.xlabel(None)\n",
    "        plt.show()\n",
    "        print(\"\\n\\n\")\n",
    "        \n"
   ]
  },
  {
   "cell_type": "code",
   "execution_count": 9,
   "metadata": {
    "colab": {
     "base_uri": "https://localhost:8080/",
     "height": 1000
    },
    "executionInfo": {
     "elapsed": 4566,
     "status": "ok",
     "timestamp": 1680873967694,
     "user": {
      "displayName": "Alber Makaryan",
      "userId": "15693571088461802987"
     },
     "user_tz": -240
    },
    "id": "r4VMNbeng_28",
    "outputId": "8b8b40f5-aa6a-49c3-f2b0-8806a74e619f"
   },
   "outputs": [
    {
     "data": {
      "image/png": "[encoded data removed]",
      "text/plain": [
       "<Figure size 720x144 with 1 Axes>"
      ]
     },
     "metadata": {
      "needs_background": "light"
     },
     "output_type": "display_data"
    },
    {
     "name": "stdout",
     "output_type": "stream",
     "text": [
      "\n",
      "\n",
      "\n"
     ]
    },
    {
     "data": {
      "image/png": "[encoded data removed]",
      "text/plain": [
       "<Figure size 720x144 with 1 Axes>"
      ]
     },
     "metadata": {
      "needs_background": "light"
     },
     "output_type": "display_data"
    },
    {
     "name": "stdout",
     "output_type": "stream",
     "text": [
      "\n",
      "\n",
      "\n"
     ]
    },
    {
     "data": {
      "image/png": "[encoded data removed]",
      "text/plain": [
       "<Figure size 720x144 with 1 Axes>"
      ]
     },
     "metadata": {
      "needs_background": "light"
     },
     "output_type": "display_data"
    },
    {
     "name": "stdout",
     "output_type": "stream",
     "text": [
      "\n",
      "\n",
      "\n"
     ]
    },
    {
     "data": {
      "image/png": "[encoded data removed]",
      "text/plain": [
       "<Figure size 720x144 with 1 Axes>"
      ]
     },
     "metadata": {
      "needs_background": "light"
     },
     "output_type": "display_data"
    },
    {
     "name": "stdout",
     "output_type": "stream",
     "text": [
      "\n",
      "\n",
      "\n"
     ]
    },
    {
     "data": {
      "image/png": "[encoded data removed]",
      "text/plain": [
       "<Figure size 720x144 with 1 Axes>"
      ]
     },
     "metadata": {
      "needs_background": "light"
     },
     "output_type": "display_data"
    },
    {
     "name": "stdout",
     "output_type": "stream",
     "text": [
      "\n",
      "\n",
      "\n"
     ]
    },
    {
     "data": {
      "image/png": "[encoded data removed]",
      "text/plain": [
       "<Figure size 720x144 with 1 Axes>"
      ]
     },
     "metadata": {
      "needs_background": "light"
     },
     "output_type": "display_data"
    },
    {
     "name": "stdout",
     "output_type": "stream",
     "text": [
      "\n",
      "\n",
      "\n"
     ]
    },
    {
     "data": {
      "image/png": "[encoded data removed]",
      "text/plain": [
       "<Figure size 720x144 with 1 Axes>"
      ]
     },
     "metadata": {
      "needs_background": "light"
     },
     "output_type": "display_data"
    },
    {
     "name": "stdout",
     "output_type": "stream",
     "text": [
      "\n",
      "\n",
      "\n"
     ]
    },
    {
     "data": {
      "image/png": "[encoded data removed]",
      "text/plain": [
       "<Figure size 720x144 with 1 Axes>"
      ]
     },
     "metadata": {
      "needs_background": "light"
     },
     "output_type": "display_data"
    },
    {
     "name": "stdout",
     "output_type": "stream",
     "text": [
      "\n",
      "\n",
      "\n"
     ]
    },
    {
     "data": {
      "image/png": "[encoded data removed]",
      "text/plain": [
       "<Figure size 720x144 with 1 Axes>"
      ]
     },
     "metadata": {
      "needs_background": "light"
     },
     "output_type": "display_data"
    },
    {
     "name": "stdout",
     "output_type": "stream",
     "text": [
      "\n",
      "\n",
      "\n"
     ]
    }
   ],
   "source": [
    "plot_outliers(df_num)"
   ]
  },
  {
   "cell_type": "markdown",
   "metadata": {
    "id": "V0n-i0iLnNKh"
   },
   "source": [
    "Boxplots show that all numerica variables has outliers. But do we need to remove all of them or not. Let's see correlation matrix before decision."
   ]
  },
  {
   "cell_type": "code",
   "execution_count": 10,
   "metadata": {
    "colab": {
     "base_uri": "https://localhost:8080/",
     "height": 394
    },
    "executionInfo": {
     "elapsed": 26,
     "status": "ok",
     "timestamp": 1680873967698,
     "user": {
      "displayName": "Alber Makaryan",
      "userId": "15693571088461802987"
     },
     "user_tz": -240
    },
    "id": "2c8WqhQahAvR",
    "outputId": "4012818f-e7a2-440a-a25d-57031278f070"
   },
   "outputs": [
    {
     "data": {
      "text/html": [
       "<div>\n",
       "<style scoped>\n",
       "    .dataframe tbody tr th:only-of-type {\n",
       "        vertical-align: middle;\n",
       "    }\n",
       "\n",
       "    .dataframe tbody tr th {\n",
       "        vertical-align: top;\n",
       "    }\n",
       "\n",
       "    .dataframe thead th {\n",
       "        text-align: right;\n",
       "    }\n",
       "</style>\n",
       "<table border=\"1\" class=\"dataframe\">\n",
       "  <thead>\n",
       "    <tr style=\"text-align: right;\">\n",
       "      <th></th>\n",
       "      <th>came_back</th>\n",
       "    </tr>\n",
       "  </thead>\n",
       "  <tbody>\n",
       "    <tr>\n",
       "      <th>came_back</th>\n",
       "      <td>1.000000</td>\n",
       "    </tr>\n",
       "    <tr>\n",
       "      <th>unique_actions</th>\n",
       "      <td>0.476349</td>\n",
       "    </tr>\n",
       "    <tr>\n",
       "      <th>unique_products_category_added</th>\n",
       "      <td>0.404911</td>\n",
       "    </tr>\n",
       "    <tr>\n",
       "      <th>n_actions</th>\n",
       "      <td>0.382764</td>\n",
       "    </tr>\n",
       "    <tr>\n",
       "      <th>saved_to_cart</th>\n",
       "      <td>0.359353</td>\n",
       "    </tr>\n",
       "    <tr>\n",
       "      <th>counts_of_buys</th>\n",
       "      <td>0.308266</td>\n",
       "    </tr>\n",
       "    <tr>\n",
       "      <th>comments_writen</th>\n",
       "      <td>0.285344</td>\n",
       "    </tr>\n",
       "    <tr>\n",
       "      <th>unique_products_category_tried</th>\n",
       "      <td>0.245592</td>\n",
       "    </tr>\n",
       "    <tr>\n",
       "      <th>products_added</th>\n",
       "      <td>0.240403</td>\n",
       "    </tr>\n",
       "    <tr>\n",
       "      <th>n_visits</th>\n",
       "      <td>0.180687</td>\n",
       "    </tr>\n",
       "    <tr>\n",
       "      <th>products_tried</th>\n",
       "      <td>0.152109</td>\n",
       "    </tr>\n",
       "  </tbody>\n",
       "</table>\n",
       "</div>"
      ],
      "text/plain": [
       "                                came_back\n",
       "came_back                        1.000000\n",
       "unique_actions                   0.476349\n",
       "unique_products_category_added   0.404911\n",
       "n_actions                        0.382764\n",
       "saved_to_cart                    0.359353\n",
       "counts_of_buys                   0.308266\n",
       "comments_writen                  0.285344\n",
       "unique_products_category_tried   0.245592\n",
       "products_added                   0.240403\n",
       "n_visits                         0.180687\n",
       "products_tried                   0.152109"
      ]
     },
     "execution_count": 10,
     "metadata": {},
     "output_type": "execute_result"
    }
   ],
   "source": [
    "corr = df.corr()\n",
    "corr.sort_values('came_back',ascending=False)[['came_back']]"
   ]
  },
  {
   "cell_type": "code",
   "execution_count": null,
   "metadata": {
    "executionInfo": {
     "elapsed": 26,
     "status": "ok",
     "timestamp": 1680873967700,
     "user": {
      "displayName": "Alber Makaryan",
      "userId": "15693571088461802987"
     },
     "user_tz": -240
    },
    "id": "LMmNlvevpCsk"
   },
   "outputs": [],
   "source": []
  },
  {
   "cell_type": "code",
   "execution_count": 11,
   "metadata": {
    "colab": {
     "base_uri": "https://localhost:8080/",
     "height": 909
    },
    "executionInfo": {
     "elapsed": 26,
     "status": "ok",
     "timestamp": 1680873967701,
     "user": {
      "displayName": "Alber Makaryan",
      "userId": "15693571088461802987"
     },
     "user_tz": -240
    },
    "id": "mkyYdP6AneRo",
    "outputId": "f614d528-1edc-467a-f6df-4edcb669c905",
    "scrolled": true
   },
   "outputs": [
    {
     "data": {
      "text/plain": [
       "<Axes: >"
      ]
     },
     "execution_count": 11,
     "metadata": {},
     "output_type": "execute_result"
    },
    {
     "data": {
      "image/png": "[encoded data removed]",
      "text/plain": [
       "<Figure size 1080x720 with 2 Axes>"
      ]
     },
     "metadata": {
      "needs_background": "light"
     },
     "output_type": "display_data"
    }
   ],
   "source": [
    "plt.figure(figsize=(15,10))\n",
    "sns.heatmap(corr,annot=True)\n"
   ]
  },
  {
   "cell_type": "markdown",
   "metadata": {},
   "source": [
    "## KNN"
   ]
  },
  {
   "cell_type": "code",
   "execution_count": 44,
   "metadata": {
    "executionInfo": {
     "elapsed": 4,
     "status": "ok",
     "timestamp": 1680874026445,
     "user": {
      "displayName": "Alber Makaryan",
      "userId": "15693571088461802987"
     },
     "user_tz": -240
    },
    "id": "QB3GbH_0pFI2"
   },
   "outputs": [],
   "source": [
    "def knn_grid_search(df,ks = [3,5,7,11,15]):  \n",
    "    X_train,X_test,y_train,y_test = train_test_split(df.drop(\"came_back\",axis=1),df['came_back'],test_size=0.1,random_state=123)\n",
    "    knn = Pipeline([\n",
    "        ('scaler',StandardScaler()),\n",
    "        ('knn',KNeighborsClassifier())\n",
    "    ])\n",
    "\n",
    "    knn_params = {'knn__n_neighbors':ks}\n",
    "\n",
    "    knn_grid_search = GridSearchCV(\n",
    "            knn,\n",
    "            knn_params,\n",
    "            cv=5,\n",
    "            verbose=True\n",
    "    )\n",
    "    \n",
    "    knn_grid_search.fit(X_train,y_train)\n",
    "    \n",
    "    return knn_grid_search"
   ]
  },
  {
   "cell_type": "code",
   "execution_count": 14,
   "metadata": {
    "executionInfo": {
     "elapsed": 6,
     "status": "ok",
     "timestamp": 1680873968139,
     "user": {
      "displayName": "Alber Makaryan",
      "userId": "15693571088461802987"
     },
     "user_tz": -240
    },
    "id": "tvmzeetCpxAC"
   },
   "outputs": [
    {
     "name": "stdout",
     "output_type": "stream",
     "text": [
      "Fitting 5 folds for each of 5 candidates, totalling 25 fits\n"
     ]
    }
   ],
   "source": [
    "knn_grid_search = knn_grid_search(df)\n",
    "cv_results_1 = knn_grid_search.cv_results_"
   ]
  },
  {
   "cell_type": "code",
   "execution_count": 36,
   "metadata": {},
   "outputs": [
    {
     "data": {
      "text/plain": [
       "[<matplotlib.lines.Line2D at 0x241dc4065b0>]"
      ]
     },
     "execution_count": 36,
     "metadata": {},
     "output_type": "execute_result"
    },
    {
     "data": {
      "image/png": "[encoded data removed]",
      "text/plain": [
       "<Figure size 432x288 with 1 Axes>"
      ]
     },
     "metadata": {
      "needs_background": "light"
     },
     "output_type": "display_data"
    }
   ],
   "source": [
    "ks = []\n",
    "\n",
    "mean_scores_1 = cv_results_1['mean_test_score']\n",
    "\n",
    "for i in range(len(cv_results_1['params'])):\n",
    "    ks.append(list(cv_results_1['params'][i].values())[0])\n",
    "    \n",
    "plt.plot(ks,mean_scores_1)"
   ]
  },
  {
   "cell_type": "markdown",
   "metadata": {},
   "source": [
    "Remove ouliers"
   ]
  },
  {
   "cell_type": "code",
   "execution_count": 37,
   "metadata": {},
   "outputs": [],
   "source": [
    "def remove_outliers(data,whis = 1.5):\n",
    "    \n",
    "    df = data.copy()\n",
    "    \n",
    "#     outliers dictionary contains outlier indexes for each feature\n",
    "    outliers = {}\n",
    "    \n",
    "#     this set contains total outliers in a data frame\n",
    "    total_outlier_indexes = set()\n",
    "    \n",
    "#     this set contains indexes where all features has outliers\n",
    "    total_outlier_intersect = set()\n",
    "    \n",
    "    for column in df:\n",
    "        \n",
    "        q_1 = np.percentile(df[column],25)\n",
    "        q_3 = np.percentile(df[column],75)\n",
    "        \n",
    "        IQR = q_3 - q_1\n",
    "        \n",
    "        outs = df[[column]][(df[column] < q_1 - whis*IQR) | (df[column] > q_3 + whis*IQR)].index.tolist()\n",
    "        outliers[column] = outs\n",
    "        total_outlier_indexes = total_outlier_indexes.union(set(outs))\n",
    "        \n",
    "    \n",
    "    return df.drop(total_outlier_indexes), outliers,total_outlier_indexes\n",
    "\n",
    "    \n",
    "\n",
    "    \n",
    "    "
   ]
  },
  {
   "cell_type": "code",
   "execution_count": 42,
   "metadata": {},
   "outputs": [],
   "source": [
    "df_without_outliers,total_outliers = remove_outliers(df)[0],remove_outliers(df)[2]\n",
    "df_without_outliers.index = range(df.shape[0] - len(total_outliers))\n",
    "\n",
    "df_without_outliers.to_csv(\"data_without_outliers.csv\")\n",
    "\n"
   ]
  },
  {
   "cell_type": "code",
   "execution_count": 45,
   "metadata": {},
   "outputs": [
    {
     "name": "stdout",
     "output_type": "stream",
     "text": [
      "Fitting 5 folds for each of 5 candidates, totalling 25 fits\n"
     ]
    }
   ],
   "source": [
    "knn_grid_search_2 = knn_grid_search(df_without_outliers)"
   ]
  },
  {
   "cell_type": "code",
   "execution_count": 46,
   "metadata": {},
   "outputs": [],
   "source": [
    "cv_results_2 = knn_grid_search_2.cv_results_"
   ]
  },
  {
   "cell_type": "code",
   "execution_count": 47,
   "metadata": {
    "scrolled": true
   },
   "outputs": [
    {
     "data": {
      "text/plain": [
       "(0.74, 0.83)"
      ]
     },
     "execution_count": 47,
     "metadata": {},
     "output_type": "execute_result"
    },
    {
     "data": {
      "image/png": "[encoded data removed]",
      "text/plain": [
       "<Figure size 432x288 with 1 Axes>"
      ]
     },
     "metadata": {
      "needs_background": "light"
     },
     "output_type": "display_data"
    }
   ],
   "source": [
    "mean_score_2 = cv_results_2['mean_test_score']\n",
    "\n",
    "plt.plot(ks,mean_score_2,label=\"With outliers\")\n",
    "plt.plot(ks,mean_scores_1,label=\"Without outliers\")\n",
    "\n",
    "plt.legend()\n",
    "\n",
    "plt.ylim(.74,.83)"
   ]
  },
  {
   "cell_type": "markdown",
   "metadata": {},
   "source": [
    "KNN model with data without ouliters performs better than with outliers. But what if there is any outliers yet.\n",
    "Now we can check if there are any outliers new outliers after removing 'old' outliers. If yes, we can perform for loop and remove outliers several times․"
   ]
  },
  {
   "cell_type": "code",
   "execution_count": null,
   "metadata": {},
   "outputs": [],
   "source": []
  },
  {
   "cell_type": "code",
   "execution_count": 48,
   "metadata": {},
   "outputs": [
    {
     "data": {
      "image/png": "[encoded data removed]",
      "text/plain": [
       "<Figure size 720x144 with 1 Axes>"
      ]
     },
     "metadata": {
      "needs_background": "light"
     },
     "output_type": "display_data"
    },
    {
     "name": "stdout",
     "output_type": "stream",
     "text": [
      "\n",
      "\n",
      "\n"
     ]
    },
    {
     "data": {
      "image/png": "[encoded data removed]",
      "text/plain": [
       "<Figure size 720x144 with 1 Axes>"
      ]
     },
     "metadata": {
      "needs_background": "light"
     },
     "output_type": "display_data"
    },
    {
     "name": "stdout",
     "output_type": "stream",
     "text": [
      "\n",
      "\n",
      "\n"
     ]
    },
    {
     "data": {
      "image/png": "[encoded data removed]",
      "text/plain": [
       "<Figure size 720x144 with 1 Axes>"
      ]
     },
     "metadata": {
      "needs_background": "light"
     },
     "output_type": "display_data"
    },
    {
     "name": "stdout",
     "output_type": "stream",
     "text": [
      "\n",
      "\n",
      "\n"
     ]
    },
    {
     "data": {
      "image/png": "[encoded data removed]",
      "text/plain": [
       "<Figure size 720x144 with 1 Axes>"
      ]
     },
     "metadata": {
      "needs_background": "light"
     },
     "output_type": "display_data"
    },
    {
     "name": "stdout",
     "output_type": "stream",
     "text": [
      "\n",
      "\n",
      "\n"
     ]
    },
    {
     "data": {
      "image/png": "[encoded data removed]",
      "text/plain": [
       "<Figure size 720x144 with 1 Axes>"
      ]
     },
     "metadata": {
      "needs_background": "light"
     },
     "output_type": "display_data"
    },
    {
     "name": "stdout",
     "output_type": "stream",
     "text": [
      "\n",
      "\n",
      "\n"
     ]
    },
    {
     "data": {
      "image/png": "[encoded data removed]",
      "text/plain": [
       "<Figure size 720x144 with 1 Axes>"
      ]
     },
     "metadata": {
      "needs_background": "light"
     },
     "output_type": "display_data"
    },
    {
     "name": "stdout",
     "output_type": "stream",
     "text": [
      "\n",
      "\n",
      "\n"
     ]
    },
    {
     "data": {
      "image/png": "[encoded data removed]",
      "text/plain": [
       "<Figure size 720x144 with 1 Axes>"
      ]
     },
     "metadata": {
      "needs_background": "light"
     },
     "output_type": "display_data"
    },
    {
     "name": "stdout",
     "output_type": "stream",
     "text": [
      "\n",
      "\n",
      "\n"
     ]
    },
    {
     "data": {
      "image/png": "[encoded data removed]",
      "text/plain": [
       "<Figure size 720x144 with 1 Axes>"
      ]
     },
     "metadata": {
      "needs_background": "light"
     },
     "output_type": "display_data"
    },
    {
     "name": "stdout",
     "output_type": "stream",
     "text": [
      "\n",
      "\n",
      "\n"
     ]
    },
    {
     "data": {
      "image/png": "[encoded data removed]",
      "text/plain": [
       "<Figure size 720x144 with 1 Axes>"
      ]
     },
     "metadata": {
      "needs_background": "light"
     },
     "output_type": "display_data"
    },
    {
     "name": "stdout",
     "output_type": "stream",
     "text": [
      "\n",
      "\n",
      "\n"
     ]
    }
   ],
   "source": [
    "plot_outliers(df_without_outliers.drop(['saved_to_cart','came_back'],axis=1))"
   ]
  },
  {
   "cell_type": "markdown",
   "metadata": {},
   "source": [
    "Let's   remove one more time all outliers and see the result, but this time let set whis equal to 3 (3 * IQR)."
   ]
  },
  {
   "cell_type": "code",
   "execution_count": 50,
   "metadata": {},
   "outputs": [
    {
     "data": {
      "image/png": "[encoded data removed]",
      "text/plain": [
       "<Figure size 720x144 with 1 Axes>"
      ]
     },
     "metadata": {
      "needs_background": "light"
     },
     "output_type": "display_data"
    },
    {
     "name": "stdout",
     "output_type": "stream",
     "text": [
      "\n",
      "\n",
      "\n"
     ]
    },
    {
     "data": {
      "image/png": "[encoded data removed]",
      "text/plain": [
       "<Figure size 720x144 with 1 Axes>"
      ]
     },
     "metadata": {
      "needs_background": "light"
     },
     "output_type": "display_data"
    },
    {
     "name": "stdout",
     "output_type": "stream",
     "text": [
      "\n",
      "\n",
      "\n"
     ]
    },
    {
     "data": {
      "image/png": "[encoded data removed]",
      "text/plain": [
       "<Figure size 720x144 with 1 Axes>"
      ]
     },
     "metadata": {
      "needs_background": "light"
     },
     "output_type": "display_data"
    },
    {
     "name": "stdout",
     "output_type": "stream",
     "text": [
      "\n",
      "\n",
      "\n"
     ]
    },
    {
     "data": {
      "image/png": "[encoded data removed]",
      "text/plain": [
       "<Figure size 720x144 with 1 Axes>"
      ]
     },
     "metadata": {
      "needs_background": "light"
     },
     "output_type": "display_data"
    },
    {
     "name": "stdout",
     "output_type": "stream",
     "text": [
      "\n",
      "\n",
      "\n"
     ]
    },
    {
     "data": {
      "image/png": "[encoded data removed]",
      "text/plain": [
       "<Figure size 720x144 with 1 Axes>"
      ]
     },
     "metadata": {
      "needs_background": "light"
     },
     "output_type": "display_data"
    },
    {
     "name": "stdout",
     "output_type": "stream",
     "text": [
      "\n",
      "\n",
      "\n"
     ]
    },
    {
     "data": {
      "image/png": "[encoded data removed]",
      "text/plain": [
       "<Figure size 720x144 with 1 Axes>"
      ]
     },
     "metadata": {
      "needs_background": "light"
     },
     "output_type": "display_data"
    },
    {
     "name": "stdout",
     "output_type": "stream",
     "text": [
      "\n",
      "\n",
      "\n"
     ]
    },
    {
     "data": {
      "image/png": "[encoded data removed]",
      "text/plain": [
       "<Figure size 720x144 with 1 Axes>"
      ]
     },
     "metadata": {
      "needs_background": "light"
     },
     "output_type": "display_data"
    },
    {
     "name": "stdout",
     "output_type": "stream",
     "text": [
      "\n",
      "\n",
      "\n"
     ]
    },
    {
     "data": {
      "image/png": "[encoded data removed]",
      "text/plain": [
       "<Figure size 720x144 with 1 Axes>"
      ]
     },
     "metadata": {
      "needs_background": "light"
     },
     "output_type": "display_data"
    },
    {
     "name": "stdout",
     "output_type": "stream",
     "text": [
      "\n",
      "\n",
      "\n"
     ]
    },
    {
     "data": {
      "image/png": "[encoded data removed]",
      "text/plain": [
       "<Figure size 720x144 with 1 Axes>"
      ]
     },
     "metadata": {
      "needs_background": "light"
     },
     "output_type": "display_data"
    },
    {
     "name": "stdout",
     "output_type": "stream",
     "text": [
      "\n",
      "\n",
      "\n"
     ]
    }
   ],
   "source": [
    "new_df,outliers_2,_ = remove_outliers(df_without_outliers,whis=3)\n",
    "plot_outliers(new_df.drop(['saved_to_cart','came_back'],axis=1))"
   ]
  },
  {
   "cell_type": "markdown",
   "metadata": {},
   "source": [
    "Visully we can see that the most outliers have 'n_actions' and 'unique_actions' features. Let's count exact amounts.\n",
    "But before it, we can build a model using this data set with best K parameter from previous grid search result."
   ]
  },
  {
   "cell_type": "code",
   "execution_count": 51,
   "metadata": {},
   "outputs": [
    {
     "data": {
      "text/plain": [
       "15"
      ]
     },
     "execution_count": 51,
     "metadata": {},
     "output_type": "execute_result"
    }
   ],
   "source": [
    "# from KNN grid search we have best k parameter\n",
    "best_k = list(knn_grid_search_2.best_params_.values())[0]\n",
    "best_k"
   ]
  },
  {
   "cell_type": "code",
   "execution_count": 52,
   "metadata": {},
   "outputs": [],
   "source": [
    "def my_KNN(df,k=best_k):\n",
    "    \n",
    "    model_results = {}\n",
    "    \n",
    "    X_train,X_test,y_train,y_test = train_test_split(df.drop(\"came_back\",axis=1),df['came_back'],test_size=0.1,random_state=123)\n",
    "       \n",
    "    model = KNeighborsClassifier(k)\n",
    "    model.fit(X_train,y_train)\n",
    "    prediction = model.predict(X_test)\n",
    "    model_results['classification_report'] = classification_report(y_test,prediction)\n",
    "    model_results['f1_score'] = f1_score(y_test,prediction)\n",
    "    model_results['accuracy'] = model.score(X_test,y_test)\n",
    "    \n",
    "    return model_results\n",
    "    \n"
   ]
  },
  {
   "cell_type": "code",
   "execution_count": 53,
   "metadata": {},
   "outputs": [
    {
     "name": "stderr",
     "output_type": "stream",
     "text": [
      "C:\\Users\\New User\\AppData\\Local\\Packages\\PythonSoftwareFoundation.Python.3.9_qbz5n2kfra8p0\\LocalCache\\local-packages\\Python39\\site-packages\\sklearn\\metrics\\_classification.py:1609: UndefinedMetricWarning: F-score is ill-defined and being set to 0.0 due to no true nor predicted samples. Use `zero_division` parameter to control this behavior.\n",
      "  _warn_prf(average, \"true nor predicted\", \"F-score is\", len(true_sum))\n"
     ]
    }
   ],
   "source": [
    "model_1_results = my_KNN(new_df,k=best_k)  "
   ]
  },
  {
   "cell_type": "code",
   "execution_count": 54,
   "metadata": {},
   "outputs": [
    {
     "name": "stdout",
     "output_type": "stream",
     "text": [
      "              precision    recall  f1-score   support\n",
      "\n",
      "           0       1.00      1.00      1.00     31599\n",
      "\n",
      "    accuracy                           1.00     31599\n",
      "   macro avg       1.00      1.00      1.00     31599\n",
      "weighted avg       1.00      1.00      1.00     31599\n",
      "\n"
     ]
    }
   ],
   "source": [
    "print(model_1_results['classification_report'])"
   ]
  },
  {
   "cell_type": "markdown",
   "metadata": {},
   "source": [
    "**Accuracy is one, because second time we removed outliers all observations with zero labels were removed.\n",
    "So, it bad idea to remove outlier second time.**"
   ]
  },
  {
   "cell_type": "code",
   "execution_count": 55,
   "metadata": {},
   "outputs": [
    {
     "data": {
      "text/plain": [
       "0    315990\n",
       "Name: came_back, dtype: int64"
      ]
     },
     "execution_count": 55,
     "metadata": {},
     "output_type": "execute_result"
    }
   ],
   "source": [
    "new_df['came_back'].value_counts()"
   ]
  },
  {
   "cell_type": "code",
   "execution_count": 57,
   "metadata": {},
   "outputs": [],
   "source": [
    "y = df_without_outliers['came_back']\n",
    "test_size_ = 0.1\n",
    "\n",
    "\n",
    "X_train,X_test,y_train,y_test = train_test_split(df_without_outliers.drop('came_back',axis=1),y,test_size=test_size_,random_state=1234)\n",
    "\n",
    "\n",
    "# standard and normal data\n",
    "\n",
    "scaler = StandardScaler()\n",
    "\n",
    "\n",
    "X = np.empty((df_without_outliers.drop('came_back',axis=1)).shape)\n",
    "\n",
    "X[:,:9] = scaler.fit_transform(df_without_outliers.drop(['saved_to_cart','came_back'],axis=1))\n",
    "X[:,-1] = df_without_outliers['saved_to_cart']\n",
    "\n",
    "# StandardScaler\n",
    "X_train_scaled,X_test_scaled,y_train_scaled,y_test_scaled = train_test_split(X,y,test_size=test_size_,random_state=1234)\n",
    "\n",
    "\n",
    "\n",
    "# sigmoid\n",
    "def sigmoid(x):\n",
    "    return 1/(1+np.exp(-x))\n",
    "\n",
    "df_sigmoid = df_without_outliers.copy()\n",
    "\n",
    "df_sigmoid = df_sigmoid.apply(lambda x: sigmoid(x) if len(np.unique(x)) >2 else x)\n",
    "\n",
    "\n",
    "X_sigm = df_sigmoid.drop('came_back',axis=1).to_numpy()\n",
    "\n",
    "# sigmoid\n",
    "X_train_sigm,X_test_sigm,y_train_sigm,y_test_sigm = train_test_split(X_sigm,y,random_state=123,test_size=test_size_)\n",
    "\n"
   ]
  },
  {
   "cell_type": "code",
   "execution_count": null,
   "metadata": {},
   "outputs": [],
   "source": []
  },
  {
   "cell_type": "code",
   "execution_count": 58,
   "metadata": {},
   "outputs": [
    {
     "data": {
      "text/plain": [
       "((436415, 11), (436415, 11))"
      ]
     },
     "execution_count": 58,
     "metadata": {},
     "output_type": "execute_result"
    }
   ],
   "source": [
    "# write to csv\n",
    "\n",
    "num_columns = list(df_num.columns)\n",
    "num_columns.append('saved_to_cart')\n",
    "scaled_data = pd.DataFrame(data=X,columns=num_columns)\n",
    "scaled_data['came_back'] = df_without_outliers['came_back']\n",
    "\n",
    "df_sigmoid.to_csv(\"sigmoid_data.csv\")\n",
    "scaled_data.to_csv(\"StandardScaler.csv\")\n",
    "\n",
    "df_sigmoid.shape,scaled_data.shape\n",
    "\n"
   ]
  },
  {
   "cell_type": "markdown",
   "metadata": {},
   "source": [
    "**Manual KNN**"
   ]
  },
  {
   "cell_type": "code",
   "execution_count": 59,
   "metadata": {},
   "outputs": [],
   "source": [
    "def KNN_manual(df,ks=[5,10,15,20,25,30]):\n",
    "    \n",
    "    X_train,X_test,y_train,y_test = train_test_split(df.drop(\"came_back\",axis=1),df['came_back'],test_size=0.1,random_state=123)\n",
    "     \n",
    "    scores = []\n",
    "    \n",
    "    for k in ks:\n",
    "        model = KNeighborsClassifier(k)\n",
    "        model.fit(X_train,y_train)\n",
    "        score = (model.score(X_test,y_test))\n",
    "        scores.append(score)\n",
    "        print(F\"\\tk: {k} -> accuracy: {score}\")\n",
    "    \n",
    "    return scores,ks"
   ]
  },
  {
   "cell_type": "code",
   "execution_count": 60,
   "metadata": {},
   "outputs": [
    {
     "name": "stdout",
     "output_type": "stream",
     "text": [
      "Non startardized data:\n",
      "\n",
      "\tk: 5 -> accuracy: 0.8009028000549929\n",
      "\tk: 10 -> accuracy: 0.8126346180285047\n",
      "\tk: 15 -> accuracy: 0.8155904862288621\n",
      "\tk: 20 -> accuracy: 0.8165070345080427\n",
      "\tk: 25 -> accuracy: 0.816873653819715\n",
      "\tk: 30 -> accuracy: 0.8186838366710967\n",
      "\n",
      "\n",
      "Sigmoid data:\n",
      "\n",
      "\tk: 5 -> accuracy: 0.797351175473168\n",
      "\tk: 10 -> accuracy: 0.8126575317354842\n",
      "\tk: 15 -> accuracy: 0.81474267907062\n",
      "\tk: 20 -> accuracy: 0.8176527198570185\n",
      "\tk: 25 -> accuracy: 0.8169882223546125\n",
      "\tk: 30 -> accuracy: 0.8189129737408918\n",
      "\n",
      "\n",
      "StandardScaler:\n",
      "\n",
      "\tk: 5 -> accuracy: 0.801750607213235\n",
      "\tk: 10 -> accuracy: 0.8159112781265753\n",
      "\tk: 15 -> accuracy: 0.8191191971037074\n",
      "\tk: 20 -> accuracy: 0.8213876540946794\n",
      "\tk: 25 -> accuracy: 0.8224875120296962\n",
      "\tk: 30 -> accuracy: 0.8239539892763851\n"
     ]
    }
   ],
   "source": [
    "print(\"Non startardized data:\\n\")\n",
    "scores_normal,ks = KNN_manual(df_without_outliers)\n",
    "\n",
    "print(\"\\n\\nSigmoid data:\\n\")\n",
    "scoes_sigmoid,ks = KNN_manual(df_sigmoid)\n",
    "\n",
    "print(\"\\n\\nStandardScaler:\\n\")\n",
    "scores_stscaled,ks = KNN_manual(scaled_data)"
   ]
  },
  {
   "cell_type": "code",
   "execution_count": 61,
   "metadata": {},
   "outputs": [
    {
     "data": {
      "image/png": "[encoded data removed]",
      "text/plain": [
       "<Figure size 432x288 with 1 Axes>"
      ]
     },
     "metadata": {
      "needs_background": "light"
     },
     "output_type": "display_data"
    }
   ],
   "source": [
    "plt.plot(ks,scores_normal,label = \"Non startardized\")\n",
    "plt.plot(ks,scoes_sigmoid,label=\"Sigmoid\")\n",
    "plt.plot(ks,scores_stscaled,label=\"StandardScaler\")\n",
    "\n",
    "plt.legend()\n",
    "plt.show()"
   ]
  },
  {
   "cell_type": "code",
   "execution_count": 63,
   "metadata": {},
   "outputs": [],
   "source": [
    "# print(\"Non startardized data:\\n\")\n",
    "# scores_normal_2,ks = KNN_manual(df_without_outliers,list(range(10,31)))\n",
    "\n",
    "# print(\"\\n\\nSigmoid data:\\n\")\n",
    "# scoes_sigmoid_2,ks = KNN_manual(df_sigmoid,list(range(10,31)))\n",
    "\n",
    "# print(\"\\n\\nStandardScaler:\\n\")\n",
    "# scores_stscaled_2,ks = KNN_manual(scaled_data,list(range(10,31)))"
   ]
  },
  {
   "cell_type": "code",
   "execution_count": null,
   "metadata": {},
   "outputs": [],
   "source": [
    "# plt.plot(ks,scores_normal_2,label = \"Non startardized\")\n",
    "# plt.plot(ks,scoes_sigmoid_2,label=\"Sigmoid\")\n",
    "# plt.plot(ks,scores_stscaled_2,label=\"StandardScaler\")\n",
    "\n",
    "# plt.legend()\n",
    "# plt.show()"
   ]
  },
  {
   "cell_type": "code",
   "execution_count": null,
   "metadata": {},
   "outputs": [],
   "source": []
  },
  {
   "cell_type": "code",
   "execution_count": 64,
   "metadata": {},
   "outputs": [],
   "source": [
    "best_k = 21"
   ]
  },
  {
   "cell_type": "markdown",
   "metadata": {},
   "source": [
    "## Decision Tree"
   ]
  },
  {
   "cell_type": "code",
   "execution_count": null,
   "metadata": {},
   "outputs": [],
   "source": []
  },
  {
   "cell_type": "code",
   "execution_count": 65,
   "metadata": {},
   "outputs": [
    {
     "data": {
      "text/plain": [
       "((392773, 10), (392773,))"
      ]
     },
     "execution_count": 65,
     "metadata": {},
     "output_type": "execute_result"
    }
   ],
   "source": [
    "X_train.shape,y_train.shape"
   ]
  },
  {
   "cell_type": "code",
   "execution_count": 66,
   "metadata": {},
   "outputs": [],
   "source": [
    "def grid_search_tree(X_train,y_train):\n",
    "    \n",
    "    pipeline = Pipeline([\n",
    "        (\"scaler\",StandardScaler()),\n",
    "        (\"model\",DecisionTreeClassifier())\n",
    "    ])\n",
    "    \n",
    "    tree_params = {\"model__criterion\":[\"gini\",\"entropy\",\"log_loss\"],\n",
    "                   \"model__max_depth\":[3,5,7,9,11]}    \n",
    "    grid_search = GridSearchCV(\n",
    "                    pipeline,\n",
    "                    tree_params,\n",
    "                    cv=5)\n",
    "    \n",
    "    grid_search.fit(X_train,y_train)\n",
    "    return grid_search"
   ]
  },
  {
   "cell_type": "code",
   "execution_count": 67,
   "metadata": {},
   "outputs": [],
   "source": [
    "grid_search_tree_normal = grid_search_tree(X_train,y_train)\n",
    "grid_search_tree_sigmoid = grid_search_tree(X_train_sigm,y_train_sigm)\n",
    "grid_search_tree_scaled = grid_search_tree(X_train_scaled,y_train_scaled)"
   ]
  },
  {
   "cell_type": "code",
   "execution_count": 68,
   "metadata": {
    "scrolled": true
   },
   "outputs": [
    {
     "name": "stdout",
     "output_type": "stream",
     "text": [
      "0.8251684157462994\n",
      "0.8242060400531598\n",
      "0.8251684157462994\n"
     ]
    }
   ],
   "source": [
    "print(grid_search_tree_normal.score(X_test,y_test))\n",
    "print(grid_search_tree_sigmoid.score(X_test_sigm,y_test_sigm))\n",
    "print(grid_search_tree_scaled.score(X_test_scaled,y_test_scaled))"
   ]
  },
  {
   "cell_type": "code",
   "execution_count": 69,
   "metadata": {},
   "outputs": [
    {
     "data": {
      "text/plain": [
       "['decision_tree.pkl']"
      ]
     },
     "execution_count": 69,
     "metadata": {},
     "output_type": "execute_result"
    }
   ],
   "source": [
    "# save best tree model\n",
    "dump(grid_search_tree_scaled,\"decision_tree.pkl\")"
   ]
  },
  {
   "cell_type": "code",
   "execution_count": 70,
   "metadata": {},
   "outputs": [],
   "source": [
    "tree_mean_normal = grid_search_tree_normal.cv_results_['mean_test_score']\n",
    "tree_mean_sigmoid = grid_search_tree_sigmoid.cv_results_['mean_test_score']\n",
    "tree_mean_scaled = grid_search_tree_scaled.cv_results_['mean_test_score']"
   ]
  },
  {
   "cell_type": "code",
   "execution_count": null,
   "metadata": {},
   "outputs": [],
   "source": [
    "grid_search_tree_normal.cv_results_"
   ]
  },
  {
   "cell_type": "code",
   "execution_count": null,
   "metadata": {},
   "outputs": [],
   "source": []
  },
  {
   "cell_type": "markdown",
   "metadata": {},
   "source": [
    "## Logistic regression"
   ]
  },
  {
   "cell_type": "code",
   "execution_count": null,
   "metadata": {},
   "outputs": [],
   "source": [
    "log_pipeline = Pipeline([\n",
    "    (\"sclaer\",StandardScaler()),\n",
    "    (\"model\",LogisticRegression())\n",
    "])\n",
    "\n",
    "log_pipeline.get_params()"
   ]
  },
  {
   "cell_type": "code",
   "execution_count": null,
   "metadata": {},
   "outputs": [],
   "source": [
    "log_params = {\"model__penalty\":['l1','l2','elasticent',None],\n",
    "              \"model__max_iter\":[100,1000,10000],\n",
    "              \"model__solver\":['lbfgs', 'liblinear', 'newton-cg', 'newton-cholesky', 'sag', 'saga'],\n",
    "              }\n",
    "\n",
    "log_grid_search = GridSearchCV(log_pipeline,log_params,cv=5)\n"
   ]
  },
  {
   "cell_type": "code",
   "execution_count": null,
   "metadata": {},
   "outputs": [],
   "source": [
    "# log_normal = log_grid_search.fit(X_train,y_train)\n",
    "# log_sigmoid = log_grid_search.fit(X_train_sigm,y_train_sigm)\n",
    "# log_scaled = log_grid_search.fit(X_train_scaled,y_train_scaled)"
   ]
  },
  {
   "cell_type": "code",
   "execution_count": null,
   "metadata": {
    "scrolled": true
   },
   "outputs": [],
   "source": [
    "# log_normal.score(X_test,y_test)\n",
    "# log_sigmoid.score(X_test_sigm,y_test_sigm)\n",
    "# log_scaled.score(X_test_scaled,y_test_scaled)"
   ]
  },
  {
   "cell_type": "code",
   "execution_count": null,
   "metadata": {},
   "outputs": [],
   "source": [
    "LogisticRegression().fit(X_train_scaled,y_train_scaled).score(X_test_scaled,y_test_scaled),LogisticRegression().fit(X_train_sigm,y_train_sigm).score(X_test_sigm,y_test_sigm)"
   ]
  },
  {
   "cell_type": "markdown",
   "metadata": {},
   "source": [
    "# Bayesian Inference"
   ]
  },
  {
   "cell_type": "code",
   "execution_count": null,
   "metadata": {},
   "outputs": [],
   "source": []
  },
  {
   "cell_type": "code",
   "execution_count": 71,
   "metadata": {},
   "outputs": [],
   "source": [
    "naive_models = [GaussianNB, BernoulliNB, CategoricalNB, ComplementNB, MultinomialNB]"
   ]
  },
  {
   "cell_type": "code",
   "execution_count": 75,
   "metadata": {},
   "outputs": [
    {
     "name": "stdout",
     "output_type": "stream",
     "text": [
      "priors:[0.001, 0.999], Gaussian: 0.304            Bernoulli:  0.197            Complement: 0.664            Multinomial: 0.198\n",
      "priors:[0.068, 0.932], Gaussian: 0.669            Bernoulli:  0.602            Complement: 0.664            Multinomial: 0.198\n",
      "priors:[0.134, 0.866], Gaussian: 0.699            Bernoulli:  0.642            Complement: 0.664            Multinomial: 0.198\n",
      "priors:[0.201, 0.799], Gaussian: 0.713            Bernoulli:  0.651            Complement: 0.664            Multinomial: 0.198\n",
      "priors:[0.267, 0.733], Gaussian: 0.723            Bernoulli:  0.666            Complement: 0.664            Multinomial: 0.198\n",
      "priors:[0.334, 0.666], Gaussian: 0.732            Bernoulli:  0.673            Complement: 0.664            Multinomial: 0.198\n",
      "priors:[0.401, 0.599], Gaussian: 0.739            Bernoulli:  0.681            Complement: 0.664            Multinomial: 0.198\n",
      "priors:[0.467, 0.533], Gaussian: 0.745            Bernoulli:  0.697            Complement: 0.664            Multinomial: 0.664\n",
      "priors:[0.534, 0.466], Gaussian: 0.751            Bernoulli:  0.703            Complement: 0.664            Multinomial: 0.664\n",
      "priors:[0.6, 0.4], Gaussian: 0.756            Bernoulli:  0.714            Complement: 0.664            Multinomial: 0.802\n",
      "priors:[0.667, 0.333], Gaussian: 0.761            Bernoulli:  0.721            Complement: 0.664            Multinomial: 0.802\n",
      "priors:[0.734, 0.266], Gaussian: 0.766            Bernoulli:  0.731            Complement: 0.664            Multinomial: 0.802\n",
      "priors:[0.8, 0.2], Gaussian: 0.771            Bernoulli:  0.74            Complement: 0.664            Multinomial: 0.802\n",
      "priors:[0.867, 0.133], Gaussian: 0.777            Bernoulli:  0.755            Complement: 0.664            Multinomial: 0.802\n",
      "priors:[0.933, 0.067], Gaussian: 0.784            Bernoulli:  0.774            Complement: 0.664            Multinomial: 0.802\n"
     ]
    }
   ],
   "source": [
    "for i in np.linspace(0.001,1,15,endpoint=False):\n",
    "    i = round(i,3)\n",
    "    j = round(1-i,3)\n",
    "    priors = [i,j]\n",
    "    Gaussian = GaussianNB(priors = priors).fit(X_train_scaled,y_train_scaled)\n",
    "    Bernouli = BernoulliNB(class_prior=priors).fit(X_train_scaled,y_train_scaled)\n",
    "    Complement = ComplementNB(class_prior=priors).fit(X_train_sigm,y_train_sigm)\n",
    "    Multinomial = MultinomialNB(class_prior=priors).fit(X_train_sigm,y_train_sigm)\n",
    "    \n",
    "    print(f\"priors:{priors}, Gaussian: {round(Gaussian.score(X_test_scaled,y_test_scaled),3)}\\\n",
    "            Bernoulli:  {round(Bernouli.score(X_test_scaled,y_test_scaled),3)}\\\n",
    "            Complement: {round(Complement.score(X_test_sigm,y_test_sigm),3)}\\\n",
    "            Multinomial: {round(Multinomial.score(X_test_sigm,y_test_sigm),3)}\")"
   ]
  },
  {
   "cell_type": "code",
   "execution_count": null,
   "metadata": {},
   "outputs": [],
   "source": []
  },
  {
   "cell_type": "markdown",
   "metadata": {},
   "source": [
    "# Save models"
   ]
  },
  {
   "cell_type": "code",
   "execution_count": 76,
   "metadata": {},
   "outputs": [],
   "source": [
    "X_train,y_train = scaled_data.drop(\"came_back\",axis=1),scaled_data['came_back']"
   ]
  },
  {
   "cell_type": "code",
   "execution_count": 77,
   "metadata": {},
   "outputs": [
    {
     "data": {
      "text/plain": [
       "['knn.pkl']"
      ]
     },
     "execution_count": 77,
     "metadata": {},
     "output_type": "execute_result"
    }
   ],
   "source": [
    "KNN = KNeighborsClassifier(best_k).fit(X_train,y_train)\n",
    "dump(KNN,\"knn.pkl\")"
   ]
  },
  {
   "cell_type": "code",
   "execution_count": 78,
   "metadata": {},
   "outputs": [
    {
     "data": {
      "text/plain": [
       "['tree.pkl']"
      ]
     },
     "execution_count": 78,
     "metadata": {},
     "output_type": "execute_result"
    }
   ],
   "source": [
    "tree = grid_search_tree_scaled.best_estimator_.fit(X_train,y_train)\n",
    "dump(tree,\"tree.pkl\")"
   ]
  },
  {
   "cell_type": "code",
   "execution_count": 79,
   "metadata": {},
   "outputs": [
    {
     "data": {
      "text/plain": [
       "['logistic.pkl']"
      ]
     },
     "execution_count": 79,
     "metadata": {},
     "output_type": "execute_result"
    }
   ],
   "source": [
    "logistic_regression = LogisticRegression().fit(X_train,y_train)\n",
    "dump(tree,\"logistic.pkl\")"
   ]
  },
  {
   "cell_type": "code",
   "execution_count": 80,
   "metadata": {},
   "outputs": [
    {
     "data": {
      "text/plain": [
       "['naive_bayes.pkl']"
      ]
     },
     "execution_count": 80,
     "metadata": {},
     "output_type": "execute_result"
    }
   ],
   "source": [
    "naive_bayes = GaussianNB(priors=[0.98,.02]).fit(X_train,y_train)\n",
    "dump(naive_bayes,\"naive_bayes.pkl\")"
   ]
  },
  {
   "cell_type": "code",
   "execution_count": null,
   "metadata": {},
   "outputs": [],
   "source": []
  }
 ],
 "metadata": {
  "accelerator": "GPU",
  "colab": {
   "authorship_tag": "ABX9TyOFSxPt0wh8gh9F7mFLGj/Z",
   "provenance": []
  },
  "gpuClass": "standard",
  "kernelspec": {
   "display_name": "Python 3 (ipykernel)",
   "language": "python",
   "name": "python3"
  },
  "language_info": {
   "codemirror_mode": {
    "name": "ipython",
    "version": 3
   },
   "file_extension": ".py",
   "mimetype": "text/x-python",
   "name": "python",
   "nbconvert_exporter": "python",
   "pygments_lexer": "ipython3",
   "version": "3.9.13"
  }
 },
 "nbformat": 4,
 "nbformat_minor": 1
}
